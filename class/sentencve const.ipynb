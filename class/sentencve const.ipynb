{
  "nbformat": 4,
  "nbformat_minor": 0,
  "metadata": {
    "colab": {
      "provenance": [],
      "authorship_tag": "ABX9TyNz1bOJgVAqc6Wv8c4qtyMp",
      "include_colab_link": true
    },
    "kernelspec": {
      "name": "python3",
      "display_name": "Python 3"
    },
    "language_info": {
      "name": "python"
    }
  },
  "cells": [
    {
      "cell_type": "markdown",
      "metadata": {
        "id": "view-in-github",
        "colab_type": "text"
      },
      "source": [
        "<a href=\"https://colab.research.google.com/github/naveen5563/DSA0301-NLP/blob/main/class/sentencve%20const.ipynb\" target=\"_parent\"><img src=\"https://colab.research.google.com/assets/colab-badge.svg\" alt=\"Open In Colab\"/></a>"
      ]
    },
    {
      "cell_type": "code",
      "source": [
        "import nltk"
      ],
      "metadata": {
        "id": "LTybAVUfy3Zz"
      },
      "execution_count": 2,
      "outputs": []
    },
    {
      "cell_type": "code",
      "execution_count": 3,
      "metadata": {
        "colab": {
          "base_uri": "https://localhost:8080/",
          "height": 140
        },
        "id": "dWmmvWxpyvl9",
        "outputId": "9621ea76-cf35-4f85-8095-3325142580cd"
      },
      "outputs": [
        {
          "output_type": "error",
          "ename": "SyntaxError",
          "evalue": "ignored",
          "traceback": [
            "\u001b[0;36m  File \u001b[0;32m\"<ipython-input-3-a4e0d8387547>\"\u001b[0;36m, line \u001b[0;32m17\u001b[0m\n\u001b[0;31m    NP: {<DT>?<JJ>*<NN>}   # Noun phrase\u001b[0m\n\u001b[0m         ^\u001b[0m\n\u001b[0;31mSyntaxError\u001b[0m\u001b[0;31m:\u001b[0m invalid syntax\n"
          ]
        }
      ],
      "source": [
        "nltk.download('averaged_perceptron_tagger')\n",
        "nltk.download('punkt')\n",
        "from nltk.tokenize import sent_tokenize\n",
        "\n",
        "input_text = \"This is the first sentence. This is the second sentence.\"\n",
        "sentences = sent_tokenize(input_text)\n",
        "\n",
        "print(sentences)\n",
        "['This is the first sentence.', 'This is the second sentence.']\n",
        "from nltk.tokenize import word_tokenize\n",
        "from nltk import pos_tag\n",
        "\n",
        "for sentence in sentences:\n",
        "    words = word_tokenize(sentence)\n",
        "    pos_tags = pos_tag(words)\n",
        "    print(pos_tags)\n",
        "NP: {<DT>?<JJ>*<NN>}   # Noun phrase\n",
        "VP: {<VB.*><NP|PP|CLAUSE>+$}  # Verb phrase\n",
        "\n",
        "from nltk import RegexpParser\n",
        "\n",
        "grammar = r\"\"\"\n",
        "   NP: {<DT>?<JJ>*<NN>}\n",
        "   VP: {<VB.*><NP|PP|CLAUSE>+$}\n",
        "   \"\"\"\n",
        "parser = RegexpParser(grammar)\n",
        "\n",
        "for sentence in sentences:\n",
        "   words = word_tokenize(sentence)\n",
        "   pos_tags = pos_tag(words)\n",
        "   tree = parser.parse(pos_tags)\n",
        "   for a subtree in the tree.subtrees():\n",
        "       if subtree.label() == 'VP':\n",
        "           print(subtree)"
      ]
    }
  ]
}